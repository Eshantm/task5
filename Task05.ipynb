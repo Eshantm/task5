{
  "nbformat": 4,
  "nbformat_minor": 0,
  "metadata": {
    "colab": {
      "name": "Task05.ipynb",
      "provenance": [],
      "collapsed_sections": []
    },
    "kernelspec": {
      "name": "python3",
      "display_name": "Python 3"
    },
    "language_info": {
      "name": "python"
    }
  },
  "cells": [
    {
      "cell_type": "markdown",
      "metadata": {
        "id": "diTgm-PRD46I"
      },
      "source": [
        "##NAME : ESHANT MAHALE\n",
        "##TASK 5: EDA ON IPL DATASET\n",
        "\n",
        "####TASK: As a Sports Analyst, We have to suggest players and team to companies for endorsing their products with relevant and meaningful Insights. "
      ]
    },
    {
      "cell_type": "markdown",
      "metadata": {
        "id": "bal_TiyuF_dP"
      },
      "source": [
        "#Reading and Preprocessing the dataset"
      ]
    },
    {
      "cell_type": "code",
      "metadata": {
        "id": "xfQveYM6GW9k"
      },
      "source": [
        "#importing initial required libraries\n",
        "import pandas as pd\n",
        "import numpy as np\n",
        "import matplotlib.pyplot as plt\n",
        "%matplotlib inline\n",
        "import seaborn as sns"
      ],
      "execution_count": null,
      "outputs": []
    },
    {
      "cell_type": "code",
      "metadata": {
        "colab": {
          "base_uri": "https://localhost:8080/",
          "height": 442
        },
        "id": "dhijbymlGclS",
        "outputId": "8991fbd6-f938-4f52-d332-dbdff5774e38"
      },
      "source": [
        "#loading the dataset in the fl_data dataframe\n",
        "matches= pd.read_csv(\"/matches.csv\")\n",
        "deliveries = pd.read_csv(\"/deliveries.csv\")\n",
        "matches.head()"
      ],
      "execution_count": null,
      "outputs": [
        {
          "output_type": "execute_result",
          "data": {
            "text/html": [
              "<div>\n",
              "<style scoped>\n",
              "    .dataframe tbody tr th:only-of-type {\n",
              "        vertical-align: middle;\n",
              "    }\n",
              "\n",
              "    .dataframe tbody tr th {\n",
              "        vertical-align: top;\n",
              "    }\n",
              "\n",
              "    .dataframe thead th {\n",
              "        text-align: right;\n",
              "    }\n",
              "</style>\n",
              "<table border=\"1\" class=\"dataframe\">\n",
              "  <thead>\n",
              "    <tr style=\"text-align: right;\">\n",
              "      <th></th>\n",
              "      <th>id</th>\n",
              "      <th>season</th>\n",
              "      <th>city</th>\n",
              "      <th>date</th>\n",
              "      <th>team1</th>\n",
              "      <th>team2</th>\n",
              "      <th>toss_winner</th>\n",
              "      <th>toss_decision</th>\n",
              "      <th>result</th>\n",
              "      <th>dl_applied</th>\n",
              "      <th>winner</th>\n",
              "      <th>win_by_runs</th>\n",
              "      <th>win_by_wickets</th>\n",
              "      <th>player_of_match</th>\n",
              "      <th>venue</th>\n",
              "      <th>umpire1</th>\n",
              "      <th>umpire2</th>\n",
              "      <th>umpire3</th>\n",
              "    </tr>\n",
              "  </thead>\n",
              "  <tbody>\n",
              "    <tr>\n",
              "      <th>0</th>\n",
              "      <td>1</td>\n",
              "      <td>2017</td>\n",
              "      <td>Hyderabad</td>\n",
              "      <td>2017-04-05</td>\n",
              "      <td>Sunrisers Hyderabad</td>\n",
              "      <td>Royal Challengers Bangalore</td>\n",
              "      <td>Royal Challengers Bangalore</td>\n",
              "      <td>field</td>\n",
              "      <td>normal</td>\n",
              "      <td>0</td>\n",
              "      <td>Sunrisers Hyderabad</td>\n",
              "      <td>35</td>\n",
              "      <td>0</td>\n",
              "      <td>Yuvraj Singh</td>\n",
              "      <td>Rajiv Gandhi International Stadium, Uppal</td>\n",
              "      <td>AY Dandekar</td>\n",
              "      <td>NJ Llong</td>\n",
              "      <td>NaN</td>\n",
              "    </tr>\n",
              "    <tr>\n",
              "      <th>1</th>\n",
              "      <td>2</td>\n",
              "      <td>2017</td>\n",
              "      <td>Pune</td>\n",
              "      <td>2017-04-06</td>\n",
              "      <td>Mumbai Indians</td>\n",
              "      <td>Rising Pune Supergiant</td>\n",
              "      <td>Rising Pune Supergiant</td>\n",
              "      <td>field</td>\n",
              "      <td>normal</td>\n",
              "      <td>0</td>\n",
              "      <td>Rising Pune Supergiant</td>\n",
              "      <td>0</td>\n",
              "      <td>7</td>\n",
              "      <td>SPD Smith</td>\n",
              "      <td>Maharashtra Cricket Association Stadium</td>\n",
              "      <td>A Nand Kishore</td>\n",
              "      <td>S Ravi</td>\n",
              "      <td>NaN</td>\n",
              "    </tr>\n",
              "    <tr>\n",
              "      <th>2</th>\n",
              "      <td>3</td>\n",
              "      <td>2017</td>\n",
              "      <td>Rajkot</td>\n",
              "      <td>2017-04-07</td>\n",
              "      <td>Gujarat Lions</td>\n",
              "      <td>Kolkata Knight Riders</td>\n",
              "      <td>Kolkata Knight Riders</td>\n",
              "      <td>field</td>\n",
              "      <td>normal</td>\n",
              "      <td>0</td>\n",
              "      <td>Kolkata Knight Riders</td>\n",
              "      <td>0</td>\n",
              "      <td>10</td>\n",
              "      <td>CA Lynn</td>\n",
              "      <td>Saurashtra Cricket Association Stadium</td>\n",
              "      <td>Nitin Menon</td>\n",
              "      <td>CK Nandan</td>\n",
              "      <td>NaN</td>\n",
              "    </tr>\n",
              "    <tr>\n",
              "      <th>3</th>\n",
              "      <td>4</td>\n",
              "      <td>2017</td>\n",
              "      <td>Indore</td>\n",
              "      <td>2017-04-08</td>\n",
              "      <td>Rising Pune Supergiant</td>\n",
              "      <td>Kings XI Punjab</td>\n",
              "      <td>Kings XI Punjab</td>\n",
              "      <td>field</td>\n",
              "      <td>normal</td>\n",
              "      <td>0</td>\n",
              "      <td>Kings XI Punjab</td>\n",
              "      <td>0</td>\n",
              "      <td>6</td>\n",
              "      <td>GJ Maxwell</td>\n",
              "      <td>Holkar Cricket Stadium</td>\n",
              "      <td>AK Chaudhary</td>\n",
              "      <td>C Shamshuddin</td>\n",
              "      <td>NaN</td>\n",
              "    </tr>\n",
              "    <tr>\n",
              "      <th>4</th>\n",
              "      <td>5</td>\n",
              "      <td>2017</td>\n",
              "      <td>Bangalore</td>\n",
              "      <td>2017-04-08</td>\n",
              "      <td>Royal Challengers Bangalore</td>\n",
              "      <td>Delhi Daredevils</td>\n",
              "      <td>Royal Challengers Bangalore</td>\n",
              "      <td>bat</td>\n",
              "      <td>normal</td>\n",
              "      <td>0</td>\n",
              "      <td>Royal Challengers Bangalore</td>\n",
              "      <td>15</td>\n",
              "      <td>0</td>\n",
              "      <td>KM Jadhav</td>\n",
              "      <td>M Chinnaswamy Stadium</td>\n",
              "      <td>NaN</td>\n",
              "      <td>NaN</td>\n",
              "      <td>NaN</td>\n",
              "    </tr>\n",
              "  </tbody>\n",
              "</table>\n",
              "</div>"
            ],
            "text/plain": [
              "   id  season       city  ...         umpire1        umpire2 umpire3\n",
              "0   1    2017  Hyderabad  ...     AY Dandekar       NJ Llong     NaN\n",
              "1   2    2017       Pune  ...  A Nand Kishore         S Ravi     NaN\n",
              "2   3    2017     Rajkot  ...     Nitin Menon      CK Nandan     NaN\n",
              "3   4    2017     Indore  ...    AK Chaudhary  C Shamshuddin     NaN\n",
              "4   5    2017  Bangalore  ...             NaN            NaN     NaN\n",
              "\n",
              "[5 rows x 18 columns]"
            ]
          },
          "metadata": {
            "tags": []
          },
          "execution_count": 3
        }
      ]
    },
    {
      "cell_type": "code",
      "metadata": {
        "colab": {
          "base_uri": "https://localhost:8080/"
        },
        "id": "7-55bO7UHGfH",
        "outputId": "9f2081db-9cab-48df-9587-f52765ef21c2"
      },
      "source": [
        "matches.shape"
      ],
      "execution_count": null,
      "outputs": [
        {
          "output_type": "execute_result",
          "data": {
            "text/plain": [
              "(756, 18)"
            ]
          },
          "metadata": {
            "tags": []
          },
          "execution_count": 4
        }
      ]
    },
    {
      "cell_type": "markdown",
      "metadata": {
        "id": "4DPRLipRHNOb"
      },
      "source": [
        "Thus we have a matches dataset which contains all the details of each match with 756 entries and 18 columns."
      ]
    },
    {
      "cell_type": "code",
      "metadata": {
        "colab": {
          "base_uri": "https://localhost:8080/"
        },
        "id": "e6kI9PwlHYsr",
        "outputId": "1ac0f52e-0a32-4e9e-f9b2-78eb5bbb81c4"
      },
      "source": [
        "#checking for null values in the dataset\n",
        "matches.isnull().sum()\n"
      ],
      "execution_count": null,
      "outputs": [
        {
          "output_type": "execute_result",
          "data": {
            "text/plain": [
              "id                   0\n",
              "season               0\n",
              "city                 7\n",
              "date                 0\n",
              "team1                0\n",
              "team2                0\n",
              "toss_winner          0\n",
              "toss_decision        0\n",
              "result               0\n",
              "dl_applied           0\n",
              "winner               4\n",
              "win_by_runs          0\n",
              "win_by_wickets       0\n",
              "player_of_match      4\n",
              "venue                0\n",
              "umpire1              2\n",
              "umpire2              2\n",
              "umpire3            637\n",
              "dtype: int64"
            ]
          },
          "metadata": {
            "tags": []
          },
          "execution_count": 5
        }
      ]
    },
    {
      "cell_type": "markdown",
      "metadata": {
        "id": "nD0odaxhHemn"
      },
      "source": [
        "Here we can see there are not much null values in out dataset, excluding the umpire3 column which has 637 entries null(which is over 80% of data).\n",
        "Moreover in our analysis we dont really need the umpire data so we can drop the three umpires columns from our dataset."
      ]
    },
    {
      "cell_type": "code",
      "metadata": {
        "colab": {
          "base_uri": "https://localhost:8080/"
        },
        "id": "4YtuTDx6IwKg",
        "outputId": "2a8c6a64-e782-4014-af2e-c4fba4b1edb7"
      },
      "source": [
        "#droping the umpire columns\n",
        "matches.drop(\"umpire3\", axis = 1, inplace = True)\n",
        "matches.drop(\"umpire1\", axis = 1, inplace = True)\n",
        "matches.drop(\"umpire2\", axis = 1, inplace = True)\n",
        "matches.columns"
      ],
      "execution_count": null,
      "outputs": [
        {
          "output_type": "execute_result",
          "data": {
            "text/plain": [
              "Index(['id', 'season', 'city', 'date', 'team1', 'team2', 'toss_winner',\n",
              "       'toss_decision', 'result', 'dl_applied', 'winner', 'win_by_runs',\n",
              "       'win_by_wickets', 'player_of_match', 'venue'],\n",
              "      dtype='object')"
            ]
          },
          "metadata": {
            "tags": []
          },
          "execution_count": 6
        }
      ]
    },
    {
      "cell_type": "markdown",
      "metadata": {
        "id": "qTA18GUCJK0S"
      },
      "source": [
        "Thus we can see that the three upire columns have been removed.\n",
        "Now we will check the null values in the other columns and check the reason for missing data.\n"
      ]
    },
    {
      "cell_type": "code",
      "metadata": {
        "id": "eShlYEp2JoR4"
      },
      "source": [
        "#first lets rename each null value with \"Not Known \" for simplicity\n",
        "matches[\"city\"].fillna(\"Not Known\", inplace=True)\n",
        "matches[\"winner\"].fillna(\"Not Known\", inplace=True)\n",
        "matches[\"player_of_match\"].fillna(\"Not Known\", inplace=True)"
      ],
      "execution_count": null,
      "outputs": []
    },
    {
      "cell_type": "markdown",
      "metadata": {
        "id": "pJ1YbDM9KJuC"
      },
      "source": [
        "Now lets check the venue column for those entries with missing city , and check if we can incur city names from that."
      ]
    },
    {
      "cell_type": "code",
      "metadata": {
        "colab": {
          "base_uri": "https://localhost:8080/"
        },
        "id": "T633qEBkKbUs",
        "outputId": "94db29f4-9bcd-45e4-f4bf-a11a7128fbfa"
      },
      "source": [
        "matches[matches[\"city\"] == \"Not Known\"][\"venue\"]"
      ],
      "execution_count": null,
      "outputs": [
        {
          "output_type": "execute_result",
          "data": {
            "text/plain": [
              "461    Dubai International Cricket Stadium\n",
              "462    Dubai International Cricket Stadium\n",
              "466    Dubai International Cricket Stadium\n",
              "468    Dubai International Cricket Stadium\n",
              "469    Dubai International Cricket Stadium\n",
              "474    Dubai International Cricket Stadium\n",
              "476    Dubai International Cricket Stadium\n",
              "Name: venue, dtype: object"
            ]
          },
          "metadata": {
            "tags": []
          },
          "execution_count": 8
        }
      ]
    },
    {
      "cell_type": "markdown",
      "metadata": {
        "id": "0I1M93HQK11o"
      },
      "source": [
        "Thus we can see that all those matches with missing city were held in Dubai International Stadium , thus we can input the city as \"Dubai\" for these entries. "
      ]
    },
    {
      "cell_type": "code",
      "metadata": {
        "colab": {
          "base_uri": "https://localhost:8080/"
        },
        "id": "l_cyj1q4LL_0",
        "outputId": "d043aaea-b251-4e4f-8bcc-f41c62b4fa14"
      },
      "source": [
        "#imputing city as Dubai for missing entries\n",
        "matches[\"city\"] = matches[\"city\"].replace([\"Not Known\"],\"Dubai\")\n",
        "print(matches[\"city\"].unique())"
      ],
      "execution_count": null,
      "outputs": [
        {
          "output_type": "stream",
          "text": [
            "['Hyderabad' 'Pune' 'Rajkot' 'Indore' 'Bangalore' 'Mumbai' 'Kolkata'\n",
            " 'Delhi' 'Chandigarh' 'Kanpur' 'Jaipur' 'Chennai' 'Cape Town'\n",
            " 'Port Elizabeth' 'Durban' 'Centurion' 'East London' 'Johannesburg'\n",
            " 'Kimberley' 'Bloemfontein' 'Ahmedabad' 'Cuttack' 'Nagpur' 'Dharamsala'\n",
            " 'Kochi' 'Visakhapatnam' 'Raipur' 'Ranchi' 'Abu Dhabi' 'Sharjah' 'Dubai'\n",
            " 'Mohali' 'Bengaluru']\n"
          ],
          "name": "stdout"
        }
      ]
    },
    {
      "cell_type": "markdown",
      "metadata": {
        "id": "gC_04BRiL2cV"
      },
      "source": [
        "Thus the dubai city was sucessfully imputed in place of Null values.\n",
        "Now we have 4 null values in winner and player of match ,lets dig and find the reason."
      ]
    },
    {
      "cell_type": "code",
      "metadata": {
        "colab": {
          "base_uri": "https://localhost:8080/"
        },
        "id": "yVm3QjT4MNb3",
        "outputId": "677ef401-f358-4306-ca66-c1cc88d7fc29"
      },
      "source": [
        "print(matches[matches[\"winner\"]==\"Not Known\"][\"result\"])"
      ],
      "execution_count": null,
      "outputs": [
        {
          "output_type": "stream",
          "text": [
            "300    no result\n",
            "545    no result\n",
            "570    no result\n",
            "744    no result\n",
            "Name: result, dtype: object\n"
          ],
          "name": "stdout"
        }
      ]
    },
    {
      "cell_type": "code",
      "metadata": {
        "colab": {
          "base_uri": "https://localhost:8080/"
        },
        "id": "CeCRtUWHMrSj",
        "outputId": "4c5e5c99-c158-4e8f-d8d3-cd1d373de96a"
      },
      "source": [
        "print(matches[matches[\"player_of_match\"]==\"Not Known\"][\"result\"])"
      ],
      "execution_count": null,
      "outputs": [
        {
          "output_type": "stream",
          "text": [
            "300    no result\n",
            "545    no result\n",
            "570    no result\n",
            "744    no result\n",
            "Name: result, dtype: object\n"
          ],
          "name": "stdout"
        }
      ]
    },
    {
      "cell_type": "markdown",
      "metadata": {
        "id": "x3eswkOqM1AF"
      },
      "source": [
        "Thus we can see that the no result matches of both columns are common(check the id numbers of above both results)\n",
        "Thus we can remove these 4 entries from our analysis, as it wouldnt remove much of our data and it wont give us meaningful insights.\n"
      ]
    },
    {
      "cell_type": "code",
      "metadata": {
        "colab": {
          "base_uri": "https://localhost:8080/"
        },
        "id": "x_57riJnNT8h",
        "outputId": "b1055613-4e3d-4589-8b39-f3112497c5ec"
      },
      "source": [
        "matches.drop(matches.index[matches[\"player_of_match\"]==\"Not Known\"],inplace=True)\n",
        "matches.shape"
      ],
      "execution_count": null,
      "outputs": [
        {
          "output_type": "execute_result",
          "data": {
            "text/plain": [
              "(752, 15)"
            ]
          },
          "metadata": {
            "tags": []
          },
          "execution_count": 12
        }
      ]
    },
    {
      "cell_type": "markdown",
      "metadata": {
        "id": "PmFuP9ZNNr9x"
      },
      "source": [
        "Thus we have removed 4 entries.\n",
        "therefore this ends our preprocessing of data where we:\n",
        "1)Imputed missing city values with Dubai\n",
        "2)Drop three irrelevant umpire columns\n",
        "3)Droped four incomplete entries"
      ]
    },
    {
      "cell_type": "code",
      "metadata": {
        "colab": {
          "base_uri": "https://localhost:8080/",
          "height": 391
        },
        "id": "q6KvbCaPjZ9f",
        "outputId": "5cc4e9bb-e1ef-4419-d5be-75e2519f3c5d"
      },
      "source": [
        "deliveries.head()"
      ],
      "execution_count": null,
      "outputs": [
        {
          "output_type": "execute_result",
          "data": {
            "text/html": [
              "<div>\n",
              "<style scoped>\n",
              "    .dataframe tbody tr th:only-of-type {\n",
              "        vertical-align: middle;\n",
              "    }\n",
              "\n",
              "    .dataframe tbody tr th {\n",
              "        vertical-align: top;\n",
              "    }\n",
              "\n",
              "    .dataframe thead th {\n",
              "        text-align: right;\n",
              "    }\n",
              "</style>\n",
              "<table border=\"1\" class=\"dataframe\">\n",
              "  <thead>\n",
              "    <tr style=\"text-align: right;\">\n",
              "      <th></th>\n",
              "      <th>match_id</th>\n",
              "      <th>inning</th>\n",
              "      <th>batting_team</th>\n",
              "      <th>bowling_team</th>\n",
              "      <th>over</th>\n",
              "      <th>ball</th>\n",
              "      <th>batsman</th>\n",
              "      <th>non_striker</th>\n",
              "      <th>bowler</th>\n",
              "      <th>is_super_over</th>\n",
              "      <th>wide_runs</th>\n",
              "      <th>bye_runs</th>\n",
              "      <th>legbye_runs</th>\n",
              "      <th>noball_runs</th>\n",
              "      <th>penalty_runs</th>\n",
              "      <th>batsman_runs</th>\n",
              "      <th>extra_runs</th>\n",
              "      <th>total_runs</th>\n",
              "      <th>player_dismissed</th>\n",
              "      <th>dismissal_kind</th>\n",
              "      <th>fielder</th>\n",
              "    </tr>\n",
              "  </thead>\n",
              "  <tbody>\n",
              "    <tr>\n",
              "      <th>0</th>\n",
              "      <td>1</td>\n",
              "      <td>1</td>\n",
              "      <td>Sunrisers Hyderabad</td>\n",
              "      <td>Royal Challengers Bangalore</td>\n",
              "      <td>1</td>\n",
              "      <td>1</td>\n",
              "      <td>DA Warner</td>\n",
              "      <td>S Dhawan</td>\n",
              "      <td>TS Mills</td>\n",
              "      <td>0</td>\n",
              "      <td>0</td>\n",
              "      <td>0</td>\n",
              "      <td>0</td>\n",
              "      <td>0</td>\n",
              "      <td>0</td>\n",
              "      <td>0</td>\n",
              "      <td>0</td>\n",
              "      <td>0</td>\n",
              "      <td>NaN</td>\n",
              "      <td>NaN</td>\n",
              "      <td>NaN</td>\n",
              "    </tr>\n",
              "    <tr>\n",
              "      <th>1</th>\n",
              "      <td>1</td>\n",
              "      <td>1</td>\n",
              "      <td>Sunrisers Hyderabad</td>\n",
              "      <td>Royal Challengers Bangalore</td>\n",
              "      <td>1</td>\n",
              "      <td>2</td>\n",
              "      <td>DA Warner</td>\n",
              "      <td>S Dhawan</td>\n",
              "      <td>TS Mills</td>\n",
              "      <td>0</td>\n",
              "      <td>0</td>\n",
              "      <td>0</td>\n",
              "      <td>0</td>\n",
              "      <td>0</td>\n",
              "      <td>0</td>\n",
              "      <td>0</td>\n",
              "      <td>0</td>\n",
              "      <td>0</td>\n",
              "      <td>NaN</td>\n",
              "      <td>NaN</td>\n",
              "      <td>NaN</td>\n",
              "    </tr>\n",
              "    <tr>\n",
              "      <th>2</th>\n",
              "      <td>1</td>\n",
              "      <td>1</td>\n",
              "      <td>Sunrisers Hyderabad</td>\n",
              "      <td>Royal Challengers Bangalore</td>\n",
              "      <td>1</td>\n",
              "      <td>3</td>\n",
              "      <td>DA Warner</td>\n",
              "      <td>S Dhawan</td>\n",
              "      <td>TS Mills</td>\n",
              "      <td>0</td>\n",
              "      <td>0</td>\n",
              "      <td>0</td>\n",
              "      <td>0</td>\n",
              "      <td>0</td>\n",
              "      <td>0</td>\n",
              "      <td>4</td>\n",
              "      <td>0</td>\n",
              "      <td>4</td>\n",
              "      <td>NaN</td>\n",
              "      <td>NaN</td>\n",
              "      <td>NaN</td>\n",
              "    </tr>\n",
              "    <tr>\n",
              "      <th>3</th>\n",
              "      <td>1</td>\n",
              "      <td>1</td>\n",
              "      <td>Sunrisers Hyderabad</td>\n",
              "      <td>Royal Challengers Bangalore</td>\n",
              "      <td>1</td>\n",
              "      <td>4</td>\n",
              "      <td>DA Warner</td>\n",
              "      <td>S Dhawan</td>\n",
              "      <td>TS Mills</td>\n",
              "      <td>0</td>\n",
              "      <td>0</td>\n",
              "      <td>0</td>\n",
              "      <td>0</td>\n",
              "      <td>0</td>\n",
              "      <td>0</td>\n",
              "      <td>0</td>\n",
              "      <td>0</td>\n",
              "      <td>0</td>\n",
              "      <td>NaN</td>\n",
              "      <td>NaN</td>\n",
              "      <td>NaN</td>\n",
              "    </tr>\n",
              "    <tr>\n",
              "      <th>4</th>\n",
              "      <td>1</td>\n",
              "      <td>1</td>\n",
              "      <td>Sunrisers Hyderabad</td>\n",
              "      <td>Royal Challengers Bangalore</td>\n",
              "      <td>1</td>\n",
              "      <td>5</td>\n",
              "      <td>DA Warner</td>\n",
              "      <td>S Dhawan</td>\n",
              "      <td>TS Mills</td>\n",
              "      <td>0</td>\n",
              "      <td>2</td>\n",
              "      <td>0</td>\n",
              "      <td>0</td>\n",
              "      <td>0</td>\n",
              "      <td>0</td>\n",
              "      <td>0</td>\n",
              "      <td>2</td>\n",
              "      <td>2</td>\n",
              "      <td>NaN</td>\n",
              "      <td>NaN</td>\n",
              "      <td>NaN</td>\n",
              "    </tr>\n",
              "  </tbody>\n",
              "</table>\n",
              "</div>"
            ],
            "text/plain": [
              "   match_id  inning  ... dismissal_kind fielder\n",
              "0         1       1  ...            NaN     NaN\n",
              "1         1       1  ...            NaN     NaN\n",
              "2         1       1  ...            NaN     NaN\n",
              "3         1       1  ...            NaN     NaN\n",
              "4         1       1  ...            NaN     NaN\n",
              "\n",
              "[5 rows x 21 columns]"
            ]
          },
          "metadata": {
            "tags": []
          },
          "execution_count": 13
        }
      ]
    },
    {
      "cell_type": "code",
      "metadata": {
        "colab": {
          "base_uri": "https://localhost:8080/"
        },
        "id": "7pY72eeljltx",
        "outputId": "5bb1e3c1-b29a-4900-a4c9-dc26d1bdecdf"
      },
      "source": [
        "deliveries.shape"
      ],
      "execution_count": null,
      "outputs": [
        {
          "output_type": "execute_result",
          "data": {
            "text/plain": [
              "(179078, 21)"
            ]
          },
          "metadata": {
            "tags": []
          },
          "execution_count": 14
        }
      ]
    },
    {
      "cell_type": "markdown",
      "metadata": {
        "id": "y6DA_A19jxHQ"
      },
      "source": [
        "Next we have a deliveries dataset containing the data regarding each ball with 179078 entries and 21 columns."
      ]
    },
    {
      "cell_type": "markdown",
      "metadata": {
        "id": "XNM4852wOKnB"
      },
      "source": [
        "#Overall Team Analysis"
      ]
    },
    {
      "cell_type": "markdown",
      "metadata": {
        "id": "IP0MBU7MkDKB"
      },
      "source": [
        "Now lets check the overall analysis of the teams across all the ipl seasons."
      ]
    },
    {
      "cell_type": "code",
      "metadata": {
        "id": "ltAwIe0ZOZ3-",
        "colab": {
          "base_uri": "https://localhost:8080/",
          "height": 418
        },
        "outputId": "39ec339c-5480-4723-ba8d-e219189b2f18"
      },
      "source": [
        "season_winners = matches[[\"season\",\"winner\"]]\n",
        "season_winners = season_winners.drop_duplicates(subset = [\"season\"], keep = \"last\")\n",
        "season_winners.reset_index(drop=True).sort_values(\"season\")"
      ],
      "execution_count": null,
      "outputs": [
        {
          "output_type": "execute_result",
          "data": {
            "text/html": [
              "<div>\n",
              "<style scoped>\n",
              "    .dataframe tbody tr th:only-of-type {\n",
              "        vertical-align: middle;\n",
              "    }\n",
              "\n",
              "    .dataframe tbody tr th {\n",
              "        vertical-align: top;\n",
              "    }\n",
              "\n",
              "    .dataframe thead th {\n",
              "        text-align: right;\n",
              "    }\n",
              "</style>\n",
              "<table border=\"1\" class=\"dataframe\">\n",
              "  <thead>\n",
              "    <tr style=\"text-align: right;\">\n",
              "      <th></th>\n",
              "      <th>season</th>\n",
              "      <th>winner</th>\n",
              "    </tr>\n",
              "  </thead>\n",
              "  <tbody>\n",
              "    <tr>\n",
              "      <th>1</th>\n",
              "      <td>2008</td>\n",
              "      <td>Rajasthan Royals</td>\n",
              "    </tr>\n",
              "    <tr>\n",
              "      <th>2</th>\n",
              "      <td>2009</td>\n",
              "      <td>Deccan Chargers</td>\n",
              "    </tr>\n",
              "    <tr>\n",
              "      <th>3</th>\n",
              "      <td>2010</td>\n",
              "      <td>Chennai Super Kings</td>\n",
              "    </tr>\n",
              "    <tr>\n",
              "      <th>4</th>\n",
              "      <td>2011</td>\n",
              "      <td>Chennai Super Kings</td>\n",
              "    </tr>\n",
              "    <tr>\n",
              "      <th>5</th>\n",
              "      <td>2012</td>\n",
              "      <td>Kolkata Knight Riders</td>\n",
              "    </tr>\n",
              "    <tr>\n",
              "      <th>6</th>\n",
              "      <td>2013</td>\n",
              "      <td>Mumbai Indians</td>\n",
              "    </tr>\n",
              "    <tr>\n",
              "      <th>7</th>\n",
              "      <td>2014</td>\n",
              "      <td>Kolkata Knight Riders</td>\n",
              "    </tr>\n",
              "    <tr>\n",
              "      <th>8</th>\n",
              "      <td>2015</td>\n",
              "      <td>Mumbai Indians</td>\n",
              "    </tr>\n",
              "    <tr>\n",
              "      <th>9</th>\n",
              "      <td>2016</td>\n",
              "      <td>Sunrisers Hyderabad</td>\n",
              "    </tr>\n",
              "    <tr>\n",
              "      <th>0</th>\n",
              "      <td>2017</td>\n",
              "      <td>Mumbai Indians</td>\n",
              "    </tr>\n",
              "    <tr>\n",
              "      <th>10</th>\n",
              "      <td>2018</td>\n",
              "      <td>Chennai Super Kings</td>\n",
              "    </tr>\n",
              "    <tr>\n",
              "      <th>11</th>\n",
              "      <td>2019</td>\n",
              "      <td>Mumbai Indians</td>\n",
              "    </tr>\n",
              "  </tbody>\n",
              "</table>\n",
              "</div>"
            ],
            "text/plain": [
              "    season                 winner\n",
              "1     2008       Rajasthan Royals\n",
              "2     2009        Deccan Chargers\n",
              "3     2010    Chennai Super Kings\n",
              "4     2011    Chennai Super Kings\n",
              "5     2012  Kolkata Knight Riders\n",
              "6     2013         Mumbai Indians\n",
              "7     2014  Kolkata Knight Riders\n",
              "8     2015         Mumbai Indians\n",
              "9     2016    Sunrisers Hyderabad\n",
              "0     2017         Mumbai Indians\n",
              "10    2018    Chennai Super Kings\n",
              "11    2019         Mumbai Indians"
            ]
          },
          "metadata": {
            "tags": []
          },
          "execution_count": 18
        }
      ]
    },
    {
      "cell_type": "code",
      "metadata": {
        "colab": {
          "base_uri": "https://localhost:8080/"
        },
        "id": "UgmoX2tmlGvv",
        "outputId": "ed2b158c-097d-4482-dec9-6c6a0d0f4698"
      },
      "source": [
        "season_winners[\"winner\"].value_counts()"
      ],
      "execution_count": null,
      "outputs": [
        {
          "output_type": "execute_result",
          "data": {
            "text/plain": [
              "Mumbai Indians           4\n",
              "Chennai Super Kings      3\n",
              "Kolkata Knight Riders    2\n",
              "Rajasthan Royals         1\n",
              "Sunrisers Hyderabad      1\n",
              "Deccan Chargers          1\n",
              "Name: winner, dtype: int64"
            ]
          },
          "metadata": {
            "tags": []
          },
          "execution_count": 19
        }
      ]
    },
    {
      "cell_type": "code",
      "metadata": {
        "colab": {
          "base_uri": "https://localhost:8080/",
          "height": 369
        },
        "id": "dERjbbdulOco",
        "outputId": "9ddfd21a-2006-434a-90e3-fb9d3881dc6a"
      },
      "source": [
        "#lets plot the season winners and see which teams have won the most cups.\n",
        "sns.countplot(data=season_winners,x=\"winner\")\n",
        "plt.xlabel(\"Teams\", fontsize = 16)\n",
        "plt.ylabel(\"Tournaments won\", fontsize = 16)\n",
        "plt.title(\"Top Teams\", fontsize = 25)\n",
        "plt.xticks(rotation = 35, fontsize = 10)\n",
        "plt.show()"
      ],
      "execution_count": null,
      "outputs": [
        {
          "output_type": "display_data",
          "data": {
            "image/png": "[encoded data removed]",
            "text/plain": [
              "<Figure size 432x288 with 1 Axes>"
            ]
          },
          "metadata": {
            "tags": [],
            "needs_background": "light"
          }
        }
      ]
    },
    {
      "cell_type": "markdown",
      "metadata": {
        "id": "jxJ7iZDxmjTE"
      },
      "source": [
        "Thus this shows that Mumbai Indians has won the most IPL titles (four) followed by Chennai Super Kings and Kolkata Knight Rides with three and two titles respectively.\n",
        "\n"
      ]
    },
    {
      "cell_type": "markdown",
      "metadata": {
        "id": "xvhyjt0UpUV7"
      },
      "source": [
        "Now lets check the Total number of wins of each across all seasons."
      ]
    },
    {
      "cell_type": "code",
      "metadata": {
        "colab": {
          "base_uri": "https://localhost:8080/",
          "height": 842
        },
        "id": "PnHXpWdMpey5",
        "outputId": "2a99f284-5a4b-46ab-d581-7d1c3504e615"
      },
      "source": [
        "plt.figure(figsize=(18,10))\n",
        "sns.countplot(\"winner\",data = matches, palette=\"viridis\")\n",
        "plt.title(\"Number of matches won\", fontsize = 25)\n",
        "plt.xlabel(\"Teams\",fontsize = 16)\n",
        "plt.ylabel(\"Number of wins\", fontsize = 16)\n",
        "plt.xticks(rotation = 50,  fontsize = 14)\n",
        "plt.show()"
      ],
      "execution_count": null,
      "outputs": [
        {
          "output_type": "stream",
          "text": [
            "/usr/local/lib/python3.7/dist-packages/seaborn/_decorators.py:43: FutureWarning: Pass the following variable as a keyword arg: x. From version 0.12, the only valid positional argument will be `data`, and passing other arguments without an explicit keyword will result in an error or misinterpretation.\n",
            "  FutureWarning\n"
          ],
          "name": "stderr"
        },
        {
          "output_type": "display_data",
          "data": {
            "image/png": "[encoded data removed]",
            "text/plain": [
              "<Figure size 1296x720 with 1 Axes>"
            ]
          },
          "metadata": {
            "tags": [],
            "needs_background": "light"
          }
        }
      ]
    },
    {
      "cell_type": "markdown",
      "metadata": {
        "id": "JfsywxkEqsUl"
      },
      "source": [
        "Thus we can see that MUMBAI INDIANS have won the most number of games followed by CHENNAI SUPER KINGS and KOLKATA KNIGHT RIDERS."
      ]
    },
    {
      "cell_type": "markdown",
      "metadata": {
        "id": "eBuksGtZrN8g"
      },
      "source": [
        "**Thus Mumbai Indians is the best franchise to endorse in, followed by Chennai super kings and Kolkata Knight riders**"
      ]
    },
    {
      "cell_type": "markdown",
      "metadata": {
        "id": "gU_4XjtDrYe5"
      },
      "source": [
        "#Impact of TOSS"
      ]
    },
    {
      "cell_type": "code",
      "metadata": {
        "colab": {
          "base_uri": "https://localhost:8080/"
        },
        "id": "Ry9GM6ANr86z",
        "outputId": "6c8ee3ab-af41-4fb4-d813-69ffd59ffe93"
      },
      "source": [
        "toss = matches[\"toss_decision\"].value_counts()\n",
        "toss"
      ],
      "execution_count": null,
      "outputs": [
        {
          "output_type": "execute_result",
          "data": {
            "text/plain": [
              "field    460\n",
              "bat      292\n",
              "Name: toss_decision, dtype: int64"
            ]
          },
          "metadata": {
            "tags": []
          },
          "execution_count": 42
        }
      ]
    },
    {
      "cell_type": "code",
      "metadata": {
        "colab": {
          "base_uri": "https://localhost:8080/",
          "height": 266
        },
        "id": "JpIUYYORsJS_",
        "outputId": "d3f18316-fd35-47d9-9136-f6639499b37c"
      },
      "source": [
        "label = np.array(toss.index)\n",
        "plt.pie(toss, labels = label,startangle = 90, autopct = \"%1.1f%%\",colors=[\"green\",\"purple\"])\n",
        "plt.title(\"Result of Toss\",fontsize = 16)\n",
        "plt.show()"
      ],
      "execution_count": null,
      "outputs": [
        {
          "output_type": "display_data",
          "data": {
            "image/png": "[encoded data removed]",
            "text/plain": [
              "<Figure size 432x288 with 1 Axes>"
            ]
          },
          "metadata": {
            "tags": []
          }
        }
      ]
    },
    {
      "cell_type": "markdown",
      "metadata": {
        "id": "J_pyzNA9seuX"
      },
      "source": [
        "Thus we can see that 61.2 % of times Teams chose to field after winning the Toss, which is a pretty significant number.\n"
      ]
    },
    {
      "cell_type": "markdown",
      "metadata": {
        "id": "2SMKiQY1tOmh"
      },
      "source": [
        "Now lets check the Toss decision trend over all the seasons, and confirm that this shown trend doesnt really explains much about only few seasons or not."
      ]
    },
    {
      "cell_type": "code",
      "metadata": {
        "colab": {
          "base_uri": "https://localhost:8080/",
          "height": 670
        },
        "id": "JdyuU7uPtct8",
        "outputId": "7839cdfb-051c-4ac7-d6fa-472a489d998d"
      },
      "source": [
        "plt.figure(figsize=(20,10))\n",
        "sns.countplot(\"season\",data = matches, hue = \"toss_decision\",palette=['green','purple'])\n",
        "plt.xlabel(\"Seasons\",fontsize = 16)\n",
        "plt.ylabel(\"Toss Decision\", fontsize = 16)\n",
        "plt.xticks(fontsize = 16)\n",
        "plt.show()"
      ],
      "execution_count": null,
      "outputs": [
        {
          "output_type": "stream",
          "text": [
            "/usr/local/lib/python3.7/dist-packages/seaborn/_decorators.py:43: FutureWarning: Pass the following variable as a keyword arg: x. From version 0.12, the only valid positional argument will be `data`, and passing other arguments without an explicit keyword will result in an error or misinterpretation.\n",
            "  FutureWarning\n"
          ],
          "name": "stderr"
        },
        {
          "output_type": "display_data",
          "data": {
            "image/png": "[encoded data removed]",
            "text/plain": [
              "<Figure size 1440x720 with 1 Axes>"
            ]
          },
          "metadata": {
            "tags": [],
            "needs_background": "light"
          }
        }
      ]
    },
    {
      "cell_type": "markdown",
      "metadata": {
        "id": "6HPRFMKuulE0"
      },
      "source": [
        "Thus it is pretty evident that across all seasons major percentage of times the toss winning captain chose to Bowl first.\n",
        "\n",
        "Now lets check the impact of the toss on winning of matches.\n"
      ]
    },
    {
      "cell_type": "code",
      "metadata": {
        "colab": {
          "base_uri": "https://localhost:8080/"
        },
        "id": "xDgoNTfevJsn",
        "outputId": "2bf85789-7277-4b30-85b7-e7a4d743fc47"
      },
      "source": [
        "toss_match_win = matches[\"toss_winner\"] == matches[\"winner\"]\n",
        "toss_match_win = toss_match_win.value_counts()\n",
        "toss_match_win"
      ],
      "execution_count": null,
      "outputs": [
        {
          "output_type": "execute_result",
          "data": {
            "text/plain": [
              "True     393\n",
              "False    359\n",
              "dtype: int64"
            ]
          },
          "metadata": {
            "tags": []
          },
          "execution_count": 62
        }
      ]
    },
    {
      "cell_type": "code",
      "metadata": {
        "colab": {
          "base_uri": "https://localhost:8080/",
          "height": 264
        },
        "id": "cCzI3kXxvese",
        "outputId": "bf088c30-2edf-4940-ed98-071c0ff33b91"
      },
      "source": [
        "#Lets see it visually how much percentage of matches have been won by winning the toss\n",
        "plt.pie(toss_match_win, labels = [\"Toss win-Match win\",\"Toss lost-Match win\"] ,startangle = 90, autopct = \"%1.1f%%\",colors=[\"green\",\"red\"])\n",
        "plt.title(\"Toss-Result Relation\")\n",
        "plt.show()"
      ],
      "execution_count": null,
      "outputs": [
        {
          "output_type": "display_data",
          "data": {
            "image/png": "[encoded data removed]",
            "text/plain": [
              "<Figure size 432x288 with 1 Axes>"
            ]
          },
          "metadata": {
            "tags": []
          }
        }
      ]
    },
    {
      "cell_type": "markdown",
      "metadata": {
        "id": "Y0kNAIWuwIXT"
      },
      "source": [
        "Thus we can see here that 52.3% of matches have been won with winning the toss also , therefore we can conclude that:\n",
        "\n",
        "**Toss plays an significant Role in Result of the match**"
      ]
    },
    {
      "cell_type": "markdown",
      "metadata": {
        "id": "8UveZZ9OwlJM"
      },
      "source": [
        "#Analysis of Best Player"
      ]
    },
    {
      "cell_type": "markdown",
      "metadata": {
        "id": "jxcmSdMSyV6f"
      },
      "source": [
        "Now we will analyse the best players across all the seasons using the attribute \"player of the match\" ,i.e, the Most valuable players(MVP)"
      ]
    },
    {
      "cell_type": "code",
      "metadata": {
        "colab": {
          "base_uri": "https://localhost:8080/"
        },
        "id": "JfO9oDOuyl_X",
        "outputId": "ef536fe3-3f8f-401f-e4c6-c4dcc3a2fe8c"
      },
      "source": [
        "mvp = matches[\"player_of_match\"].value_counts()\n",
        "top10 = mvp[:10] #here we have the top players with most MoM awards\n",
        "top10"
      ],
      "execution_count": null,
      "outputs": [
        {
          "output_type": "execute_result",
          "data": {
            "text/plain": [
              "CH Gayle          21\n",
              "AB de Villiers    20\n",
              "RG Sharma         17\n",
              "DA Warner         17\n",
              "MS Dhoni          17\n",
              "YK Pathan         16\n",
              "SR Watson         15\n",
              "SK Raina          14\n",
              "G Gambhir         13\n",
              "MEK Hussey        12\n",
              "Name: player_of_match, dtype: int64"
            ]
          },
          "metadata": {
            "tags": []
          },
          "execution_count": 68
        }
      ]
    },
    {
      "cell_type": "code",
      "metadata": {
        "colab": {
          "base_uri": "https://localhost:8080/",
          "height": 583
        },
        "id": "qLdWYjtZy5Yg",
        "outputId": "98998311-f45b-4b1a-e668-89df9e6bd994"
      },
      "source": [
        "plt.figure(figsize = (16,8))\n",
        "top10.plot.bar(color=\"purple\")\n",
        "plt.ylabel(\"Number of MOMs\", fontsize = 16)\n",
        "plt.title(\"Top Players\", fontsize = 25)\n",
        "plt.xticks(rotation = 45, fontsize = 16)\n",
        "plt.show()"
      ],
      "execution_count": null,
      "outputs": [
        {
          "output_type": "display_data",
          "data": {
            "image/png": "[encoded data removed]",
            "text/plain": [
              "<Figure size 1152x576 with 1 Axes>"
            ]
          },
          "metadata": {
            "tags": [],
            "needs_background": "light"
          }
        }
      ]
    },
    {
      "cell_type": "markdown",
      "metadata": {
        "id": "SLi5Appt0OdA"
      },
      "source": [
        "Thus we can see Chris Gayle is the most valuable player with 21 MoM awards , followed by ABde Villers and Rohit Sharma.\n",
        "\n",
        "**Thus we can suggest these 10 players to companies to endorse in**"
      ]
    },
    {
      "cell_type": "markdown",
      "metadata": {
        "id": "Q7fwp7O10x83"
      },
      "source": [
        "#Top Batsmen Analysis"
      ]
    },
    {
      "cell_type": "markdown",
      "metadata": {
        "id": "sXzsr80l01tw"
      },
      "source": [
        "Now lets analyse the top batsmens across all the seaons.\n",
        "The most important analysing factor of batsmen is the runs,boundaries and strike rate.\n",
        "Thus now for data for each individual players we will dig into our deliveries dataset.\n"
      ]
    },
    {
      "cell_type": "code",
      "metadata": {
        "colab": {
          "base_uri": "https://localhost:8080/",
          "height": 391
        },
        "id": "Tc1nkL2e07nn",
        "outputId": "f76f0eed-da5e-45b1-b4c5-53097df8d39f"
      },
      "source": [
        "indi_data = deliveries.merge(matches[[\"id\",\"season\",\"winner\"]],how = \"inner\", left_on = \"match_id\",right_on = \"id\")\n",
        "indi_data.head()"
      ],
      "execution_count": null,
      "outputs": [
        {
          "output_type": "execute_result",
          "data": {
            "text/html": [
              "<div>\n",
              "<style scoped>\n",
              "    .dataframe tbody tr th:only-of-type {\n",
              "        vertical-align: middle;\n",
              "    }\n",
              "\n",
              "    .dataframe tbody tr th {\n",
              "        vertical-align: top;\n",
              "    }\n",
              "\n",
              "    .dataframe thead th {\n",
              "        text-align: right;\n",
              "    }\n",
              "</style>\n",
              "<table border=\"1\" class=\"dataframe\">\n",
              "  <thead>\n",
              "    <tr style=\"text-align: right;\">\n",
              "      <th></th>\n",
              "      <th>match_id</th>\n",
              "      <th>inning</th>\n",
              "      <th>batting_team</th>\n",
              "      <th>bowling_team</th>\n",
              "      <th>over</th>\n",
              "      <th>ball</th>\n",
              "      <th>batsman</th>\n",
              "      <th>non_striker</th>\n",
              "      <th>bowler</th>\n",
              "      <th>is_super_over</th>\n",
              "      <th>wide_runs</th>\n",
              "      <th>bye_runs</th>\n",
              "      <th>legbye_runs</th>\n",
              "      <th>noball_runs</th>\n",
              "      <th>penalty_runs</th>\n",
              "      <th>batsman_runs</th>\n",
              "      <th>extra_runs</th>\n",
              "      <th>total_runs</th>\n",
              "      <th>player_dismissed</th>\n",
              "      <th>dismissal_kind</th>\n",
              "      <th>fielder</th>\n",
              "      <th>id</th>\n",
              "      <th>season</th>\n",
              "      <th>winner</th>\n",
              "    </tr>\n",
              "  </thead>\n",
              "  <tbody>\n",
              "    <tr>\n",
              "      <th>0</th>\n",
              "      <td>1</td>\n",
              "      <td>1</td>\n",
              "      <td>Sunrisers Hyderabad</td>\n",
              "      <td>Royal Challengers Bangalore</td>\n",
              "      <td>1</td>\n",
              "      <td>1</td>\n",
              "      <td>DA Warner</td>\n",
              "      <td>S Dhawan</td>\n",
              "      <td>TS Mills</td>\n",
              "      <td>0</td>\n",
              "      <td>0</td>\n",
              "      <td>0</td>\n",
              "      <td>0</td>\n",
              "      <td>0</td>\n",
              "      <td>0</td>\n",
              "      <td>0</td>\n",
              "      <td>0</td>\n",
              "      <td>0</td>\n",
              "      <td>NaN</td>\n",
              "      <td>NaN</td>\n",
              "      <td>NaN</td>\n",
              "      <td>1</td>\n",
              "      <td>2017</td>\n",
              "      <td>Sunrisers Hyderabad</td>\n",
              "    </tr>\n",
              "    <tr>\n",
              "      <th>1</th>\n",
              "      <td>1</td>\n",
              "      <td>1</td>\n",
              "      <td>Sunrisers Hyderabad</td>\n",
              "      <td>Royal Challengers Bangalore</td>\n",
              "      <td>1</td>\n",
              "      <td>2</td>\n",
              "      <td>DA Warner</td>\n",
              "      <td>S Dhawan</td>\n",
              "      <td>TS Mills</td>\n",
              "      <td>0</td>\n",
              "      <td>0</td>\n",
              "      <td>0</td>\n",
              "      <td>0</td>\n",
              "      <td>0</td>\n",
              "      <td>0</td>\n",
              "      <td>0</td>\n",
              "      <td>0</td>\n",
              "      <td>0</td>\n",
              "      <td>NaN</td>\n",
              "      <td>NaN</td>\n",
              "      <td>NaN</td>\n",
              "      <td>1</td>\n",
              "      <td>2017</td>\n",
              "      <td>Sunrisers Hyderabad</td>\n",
              "    </tr>\n",
              "    <tr>\n",
              "      <th>2</th>\n",
              "      <td>1</td>\n",
              "      <td>1</td>\n",
              "      <td>Sunrisers Hyderabad</td>\n",
              "      <td>Royal Challengers Bangalore</td>\n",
              "      <td>1</td>\n",
              "      <td>3</td>\n",
              "      <td>DA Warner</td>\n",
              "      <td>S Dhawan</td>\n",
              "      <td>TS Mills</td>\n",
              "      <td>0</td>\n",
              "      <td>0</td>\n",
              "      <td>0</td>\n",
              "      <td>0</td>\n",
              "      <td>0</td>\n",
              "      <td>0</td>\n",
              "      <td>4</td>\n",
              "      <td>0</td>\n",
              "      <td>4</td>\n",
              "      <td>NaN</td>\n",
              "      <td>NaN</td>\n",
              "      <td>NaN</td>\n",
              "      <td>1</td>\n",
              "      <td>2017</td>\n",
              "      <td>Sunrisers Hyderabad</td>\n",
              "    </tr>\n",
              "    <tr>\n",
              "      <th>3</th>\n",
              "      <td>1</td>\n",
              "      <td>1</td>\n",
              "      <td>Sunrisers Hyderabad</td>\n",
              "      <td>Royal Challengers Bangalore</td>\n",
              "      <td>1</td>\n",
              "      <td>4</td>\n",
              "      <td>DA Warner</td>\n",
              "      <td>S Dhawan</td>\n",
              "      <td>TS Mills</td>\n",
              "      <td>0</td>\n",
              "      <td>0</td>\n",
              "      <td>0</td>\n",
              "      <td>0</td>\n",
              "      <td>0</td>\n",
              "      <td>0</td>\n",
              "      <td>0</td>\n",
              "      <td>0</td>\n",
              "      <td>0</td>\n",
              "      <td>NaN</td>\n",
              "      <td>NaN</td>\n",
              "      <td>NaN</td>\n",
              "      <td>1</td>\n",
              "      <td>2017</td>\n",
              "      <td>Sunrisers Hyderabad</td>\n",
              "    </tr>\n",
              "    <tr>\n",
              "      <th>4</th>\n",
              "      <td>1</td>\n",
              "      <td>1</td>\n",
              "      <td>Sunrisers Hyderabad</td>\n",
              "      <td>Royal Challengers Bangalore</td>\n",
              "      <td>1</td>\n",
              "      <td>5</td>\n",
              "      <td>DA Warner</td>\n",
              "      <td>S Dhawan</td>\n",
              "      <td>TS Mills</td>\n",
              "      <td>0</td>\n",
              "      <td>2</td>\n",
              "      <td>0</td>\n",
              "      <td>0</td>\n",
              "      <td>0</td>\n",
              "      <td>0</td>\n",
              "      <td>0</td>\n",
              "      <td>2</td>\n",
              "      <td>2</td>\n",
              "      <td>NaN</td>\n",
              "      <td>NaN</td>\n",
              "      <td>NaN</td>\n",
              "      <td>1</td>\n",
              "      <td>2017</td>\n",
              "      <td>Sunrisers Hyderabad</td>\n",
              "    </tr>\n",
              "  </tbody>\n",
              "</table>\n",
              "</div>"
            ],
            "text/plain": [
              "   match_id  inning         batting_team  ... id  season               winner\n",
              "0         1       1  Sunrisers Hyderabad  ...  1    2017  Sunrisers Hyderabad\n",
              "1         1       1  Sunrisers Hyderabad  ...  1    2017  Sunrisers Hyderabad\n",
              "2         1       1  Sunrisers Hyderabad  ...  1    2017  Sunrisers Hyderabad\n",
              "3         1       1  Sunrisers Hyderabad  ...  1    2017  Sunrisers Hyderabad\n",
              "4         1       1  Sunrisers Hyderabad  ...  1    2017  Sunrisers Hyderabad\n",
              "\n",
              "[5 rows x 24 columns]"
            ]
          },
          "metadata": {
            "tags": []
          },
          "execution_count": 78
        }
      ]
    },
    {
      "cell_type": "code",
      "metadata": {
        "colab": {
          "base_uri": "https://localhost:8080/",
          "height": 542
        },
        "id": "5XGOxUXK2nhT",
        "outputId": "3872da1d-64ca-414c-c9c0-a803a58d140c"
      },
      "source": [
        "boundary = indi_data[[\"batting_team\",\"batsman_runs\",\"batsman\"]]\n",
        "bound4 = boundary[boundary[\"batsman_runs\"] == 4]\n",
        "Bound4 = bound4.groupby(\"batting_team\")[\"batsman_runs\"].agg([(\"Fours\",\"count\")])\n",
        "bound6 = boundary[boundary[\"batsman_runs\"] == 6]\n",
        "Bound6 = bound6.groupby(\"batting_team\")[\"batsman_runs\"].agg([(\"Sixes\",\"count\")])\n",
        "batsman6 = bound6.groupby(\"batsman\")[\"batsman_runs\"].agg([(\"Sixes\",\"count\")])\n",
        "batsman4 = bound4.groupby(\"batsman\")[\"batsman_runs\"].agg([(\"Fours\",\"count\")])\n",
        "Bound = Bound4.merge(Bound6, how = \"inner\",right_on = \"batting_team\",left_on=\"batting_team\")\n",
        "Bound"
      ],
      "execution_count": null,
      "outputs": [
        {
          "output_type": "execute_result",
          "data": {
            "text/html": [
              "<div>\n",
              "<style scoped>\n",
              "    .dataframe tbody tr th:only-of-type {\n",
              "        vertical-align: middle;\n",
              "    }\n",
              "\n",
              "    .dataframe tbody tr th {\n",
              "        vertical-align: top;\n",
              "    }\n",
              "\n",
              "    .dataframe thead th {\n",
              "        text-align: right;\n",
              "    }\n",
              "</style>\n",
              "<table border=\"1\" class=\"dataframe\">\n",
              "  <thead>\n",
              "    <tr style=\"text-align: right;\">\n",
              "      <th></th>\n",
              "      <th>Fours</th>\n",
              "      <th>Sixes</th>\n",
              "    </tr>\n",
              "    <tr>\n",
              "      <th>batting_team</th>\n",
              "      <th></th>\n",
              "      <th></th>\n",
              "    </tr>\n",
              "  </thead>\n",
              "  <tbody>\n",
              "    <tr>\n",
              "      <th>Chennai Super Kings</th>\n",
              "      <td>2193</td>\n",
              "      <td>973</td>\n",
              "    </tr>\n",
              "    <tr>\n",
              "      <th>Deccan Chargers</th>\n",
              "      <td>957</td>\n",
              "      <td>400</td>\n",
              "    </tr>\n",
              "    <tr>\n",
              "      <th>Delhi Capitals</th>\n",
              "      <td>242</td>\n",
              "      <td>87</td>\n",
              "    </tr>\n",
              "    <tr>\n",
              "      <th>Delhi Daredevils</th>\n",
              "      <td>2141</td>\n",
              "      <td>790</td>\n",
              "    </tr>\n",
              "    <tr>\n",
              "      <th>Gujarat Lions</th>\n",
              "      <td>460</td>\n",
              "      <td>155</td>\n",
              "    </tr>\n",
              "    <tr>\n",
              "      <th>Kings XI Punjab</th>\n",
              "      <td>2458</td>\n",
              "      <td>976</td>\n",
              "    </tr>\n",
              "    <tr>\n",
              "      <th>Kochi Tuskers Kerala</th>\n",
              "      <td>170</td>\n",
              "      <td>53</td>\n",
              "    </tr>\n",
              "    <tr>\n",
              "      <th>Kolkata Knight Riders</th>\n",
              "      <td>2434</td>\n",
              "      <td>930</td>\n",
              "    </tr>\n",
              "    <tr>\n",
              "      <th>Mumbai Indians</th>\n",
              "      <td>2588</td>\n",
              "      <td>1096</td>\n",
              "    </tr>\n",
              "    <tr>\n",
              "      <th>Pune Warriors</th>\n",
              "      <td>525</td>\n",
              "      <td>196</td>\n",
              "    </tr>\n",
              "    <tr>\n",
              "      <th>Rajasthan Royals</th>\n",
              "      <td>2032</td>\n",
              "      <td>677</td>\n",
              "    </tr>\n",
              "    <tr>\n",
              "      <th>Rising Pune Supergiant</th>\n",
              "      <td>197</td>\n",
              "      <td>89</td>\n",
              "    </tr>\n",
              "    <tr>\n",
              "      <th>Rising Pune Supergiants</th>\n",
              "      <td>171</td>\n",
              "      <td>68</td>\n",
              "    </tr>\n",
              "    <tr>\n",
              "      <th>Royal Challengers Bangalore</th>\n",
              "      <td>2329</td>\n",
              "      <td>1124</td>\n",
              "    </tr>\n",
              "    <tr>\n",
              "      <th>Sunrisers Hyderabad</th>\n",
              "      <td>1444</td>\n",
              "      <td>533</td>\n",
              "    </tr>\n",
              "  </tbody>\n",
              "</table>\n",
              "</div>"
            ],
            "text/plain": [
              "                             Fours  Sixes\n",
              "batting_team                             \n",
              "Chennai Super Kings           2193    973\n",
              "Deccan Chargers                957    400\n",
              "Delhi Capitals                 242     87\n",
              "Delhi Daredevils              2141    790\n",
              "Gujarat Lions                  460    155\n",
              "Kings XI Punjab               2458    976\n",
              "Kochi Tuskers Kerala           170     53\n",
              "Kolkata Knight Riders         2434    930\n",
              "Mumbai Indians                2588   1096\n",
              "Pune Warriors                  525    196\n",
              "Rajasthan Royals              2032    677\n",
              "Rising Pune Supergiant         197     89\n",
              "Rising Pune Supergiants        171     68\n",
              "Royal Challengers Bangalore   2329   1124\n",
              "Sunrisers Hyderabad           1444    533"
            ]
          },
          "metadata": {
            "tags": []
          },
          "execution_count": 81
        }
      ]
    },
    {
      "cell_type": "code",
      "metadata": {
        "colab": {
          "base_uri": "https://localhost:8080/"
        },
        "id": "R6VlaR314BcD",
        "outputId": "7818c9ef-25bb-4155-81a6-d1acb72b9338"
      },
      "source": [
        "Total_boundaries = Bound[\"Fours\"]+Bound[\"Sixes\"]\n",
        "Total_boundaries"
      ],
      "execution_count": null,
      "outputs": [
        {
          "output_type": "execute_result",
          "data": {
            "text/plain": [
              "batting_team\n",
              "Chennai Super Kings            3166\n",
              "Deccan Chargers                1357\n",
              "Delhi Capitals                  329\n",
              "Delhi Daredevils               2931\n",
              "Gujarat Lions                   615\n",
              "Kings XI Punjab                3434\n",
              "Kochi Tuskers Kerala            223\n",
              "Kolkata Knight Riders          3364\n",
              "Mumbai Indians                 3684\n",
              "Pune Warriors                   721\n",
              "Rajasthan Royals               2709\n",
              "Rising Pune Supergiant          286\n",
              "Rising Pune Supergiants         239\n",
              "Royal Challengers Bangalore    3453\n",
              "Sunrisers Hyderabad            1977\n",
              "dtype: int64"
            ]
          },
          "metadata": {
            "tags": []
          },
          "execution_count": 83
        }
      ]
    },
    {
      "cell_type": "code",
      "metadata": {
        "colab": {
          "base_uri": "https://localhost:8080/",
          "height": 706
        },
        "id": "Q2uXza734RZH",
        "outputId": "750b98da-7cbf-468c-c36b-083d08f3223c"
      },
      "source": [
        "#lets plot these and check which teams were the most entertaining with most number of boundaries\n",
        "plt.figure(figsize = (16,8))\n",
        "Total_boundaries.plot.bar(color=\"purple\")\n",
        "plt.xlabel(\"Teams\",fontsize = 16)\n",
        "plt.ylabel(\"Number of boundaries\", fontsize = 16)\n",
        "plt.title(\"Most Boundaries\", fontsize = 25)\n",
        "plt.xticks(rotation = 65, fontsize = 14)\n",
        "plt.show()"
      ],
      "execution_count": null,
      "outputs": [
        {
          "output_type": "display_data",
          "data": {
            "image/png": "[encoded data removed]",
            "text/plain": [
              "<Figure size 1152x576 with 1 Axes>"
            ]
          },
          "metadata": {
            "tags": [],
            "needs_background": "light"
          }
        }
      ]
    },
    {
      "cell_type": "markdown",
      "metadata": {
        "id": "qWoopLV14xbK"
      },
      "source": [
        "Thus we can see that Mumbai Indians have the most number of boundaries (3684) followed by Royal Challengers Bangalore and Kings XI Punjab \n",
        "\n",
        "**Thus Mumbai,Royal Challengers Bangalore,Kings XI Punjab were the most interesting teams to watch out for and endorse in**"
      ]
    },
    {
      "cell_type": "code",
      "metadata": {
        "colab": {
          "base_uri": "https://localhost:8080/",
          "height": 388
        },
        "id": "OGbDZ43a5klJ",
        "outputId": "3c3c7892-b0f9-432f-9067-922ba8acfc40"
      },
      "source": [
        "#lets find the batsmen with most no of fours\n",
        "batsman4Top = batsman4.sort_values(\"Fours\",ascending = False)\n",
        "batsman4Top.head(10)"
      ],
      "execution_count": null,
      "outputs": [
        {
          "output_type": "execute_result",
          "data": {
            "text/html": [
              "<div>\n",
              "<style scoped>\n",
              "    .dataframe tbody tr th:only-of-type {\n",
              "        vertical-align: middle;\n",
              "    }\n",
              "\n",
              "    .dataframe tbody tr th {\n",
              "        vertical-align: top;\n",
              "    }\n",
              "\n",
              "    .dataframe thead th {\n",
              "        text-align: right;\n",
              "    }\n",
              "</style>\n",
              "<table border=\"1\" class=\"dataframe\">\n",
              "  <thead>\n",
              "    <tr style=\"text-align: right;\">\n",
              "      <th></th>\n",
              "      <th>Fours</th>\n",
              "    </tr>\n",
              "    <tr>\n",
              "      <th>batsman</th>\n",
              "      <th></th>\n",
              "    </tr>\n",
              "  </thead>\n",
              "  <tbody>\n",
              "    <tr>\n",
              "      <th>S Dhawan</th>\n",
              "      <td>526</td>\n",
              "    </tr>\n",
              "    <tr>\n",
              "      <th>SK Raina</th>\n",
              "      <td>495</td>\n",
              "    </tr>\n",
              "    <tr>\n",
              "      <th>G Gambhir</th>\n",
              "      <td>492</td>\n",
              "    </tr>\n",
              "    <tr>\n",
              "      <th>V Kohli</th>\n",
              "      <td>481</td>\n",
              "    </tr>\n",
              "    <tr>\n",
              "      <th>DA Warner</th>\n",
              "      <td>458</td>\n",
              "    </tr>\n",
              "    <tr>\n",
              "      <th>RV Uthappa</th>\n",
              "      <td>436</td>\n",
              "    </tr>\n",
              "    <tr>\n",
              "      <th>RG Sharma</th>\n",
              "      <td>431</td>\n",
              "    </tr>\n",
              "    <tr>\n",
              "      <th>AM Rahane</th>\n",
              "      <td>405</td>\n",
              "    </tr>\n",
              "    <tr>\n",
              "      <th>CH Gayle</th>\n",
              "      <td>375</td>\n",
              "    </tr>\n",
              "    <tr>\n",
              "      <th>PA Patel</th>\n",
              "      <td>365</td>\n",
              "    </tr>\n",
              "  </tbody>\n",
              "</table>\n",
              "</div>"
            ],
            "text/plain": [
              "            Fours\n",
              "batsman          \n",
              "S Dhawan      526\n",
              "SK Raina      495\n",
              "G Gambhir     492\n",
              "V Kohli       481\n",
              "DA Warner     458\n",
              "RV Uthappa    436\n",
              "RG Sharma     431\n",
              "AM Rahane     405\n",
              "CH Gayle      375\n",
              "PA Patel      365"
            ]
          },
          "metadata": {
            "tags": []
          },
          "execution_count": 89
        }
      ]
    },
    {
      "cell_type": "code",
      "metadata": {
        "colab": {
          "base_uri": "https://localhost:8080/",
          "height": 365
        },
        "id": "G2lEC1ZH52Qi",
        "outputId": "f0a20791-4442-4871-8b68-b7bdacc06442"
      },
      "source": [
        "Top10 = batsman4Top[:10]\n",
        "plt.figure(figsize = (20,10))\n",
        "Top10.plot.bar(color=\"purple\")\n",
        "plt.xlabel(\"batsman\", fontsize = 16)\n",
        "plt.ylabel(\"Number of fours\", fontsize = 16)\n",
        "plt.title(\"Most Fours\", fontsize = 25)\n",
        "plt.xticks(rotation = 45, fontsize = 10)\n",
        "plt.show()"
      ],
      "execution_count": null,
      "outputs": [
        {
          "output_type": "display_data",
          "data": {
            "text/plain": [
              "<Figure size 1440x720 with 0 Axes>"
            ]
          },
          "metadata": {
            "tags": []
          }
        },
        {
          "output_type": "display_data",
          "data": {
            "image/png": "[encoded data removed]",
            "text/plain": [
              "<Figure size 432x288 with 1 Axes>"
            ]
          },
          "metadata": {
            "tags": [],
            "needs_background": "light"
          }
        }
      ]
    },
    {
      "cell_type": "markdown",
      "metadata": {
        "id": "0TPL7vnq6Bop"
      },
      "source": [
        "Thus Shikhar Dhawan has the most no of Fours (526) followed by Suresh raina , G Gambhir and Virat Kohli "
      ]
    },
    {
      "cell_type": "code",
      "metadata": {
        "colab": {
          "base_uri": "https://localhost:8080/",
          "height": 388
        },
        "id": "YYkCdHM16PI5",
        "outputId": "1c068175-5163-4737-a7c0-d4bf463f4907"
      },
      "source": [
        "#lets find the batsmen with most no of sixes\n",
        "batsman6Top = batsman6.sort_values(\"Sixes\",ascending = False)\n",
        "batsman6Top.head(10)"
      ],
      "execution_count": null,
      "outputs": [
        {
          "output_type": "execute_result",
          "data": {
            "text/html": [
              "<div>\n",
              "<style scoped>\n",
              "    .dataframe tbody tr th:only-of-type {\n",
              "        vertical-align: middle;\n",
              "    }\n",
              "\n",
              "    .dataframe tbody tr th {\n",
              "        vertical-align: top;\n",
              "    }\n",
              "\n",
              "    .dataframe thead th {\n",
              "        text-align: right;\n",
              "    }\n",
              "</style>\n",
              "<table border=\"1\" class=\"dataframe\">\n",
              "  <thead>\n",
              "    <tr style=\"text-align: right;\">\n",
              "      <th></th>\n",
              "      <th>Sixes</th>\n",
              "    </tr>\n",
              "    <tr>\n",
              "      <th>batsman</th>\n",
              "      <th></th>\n",
              "    </tr>\n",
              "  </thead>\n",
              "  <tbody>\n",
              "    <tr>\n",
              "      <th>CH Gayle</th>\n",
              "      <td>326</td>\n",
              "    </tr>\n",
              "    <tr>\n",
              "      <th>AB de Villiers</th>\n",
              "      <td>213</td>\n",
              "    </tr>\n",
              "    <tr>\n",
              "      <th>MS Dhoni</th>\n",
              "      <td>207</td>\n",
              "    </tr>\n",
              "    <tr>\n",
              "      <th>SK Raina</th>\n",
              "      <td>195</td>\n",
              "    </tr>\n",
              "    <tr>\n",
              "      <th>RG Sharma</th>\n",
              "      <td>194</td>\n",
              "    </tr>\n",
              "    <tr>\n",
              "      <th>V Kohli</th>\n",
              "      <td>188</td>\n",
              "    </tr>\n",
              "    <tr>\n",
              "      <th>DA Warner</th>\n",
              "      <td>179</td>\n",
              "    </tr>\n",
              "    <tr>\n",
              "      <th>SR Watson</th>\n",
              "      <td>177</td>\n",
              "    </tr>\n",
              "    <tr>\n",
              "      <th>KA Pollard</th>\n",
              "      <td>175</td>\n",
              "    </tr>\n",
              "    <tr>\n",
              "      <th>YK Pathan</th>\n",
              "      <td>161</td>\n",
              "    </tr>\n",
              "  </tbody>\n",
              "</table>\n",
              "</div>"
            ],
            "text/plain": [
              "                Sixes\n",
              "batsman              \n",
              "CH Gayle          326\n",
              "AB de Villiers    213\n",
              "MS Dhoni          207\n",
              "SK Raina          195\n",
              "RG Sharma         194\n",
              "V Kohli           188\n",
              "DA Warner         179\n",
              "SR Watson         177\n",
              "KA Pollard        175\n",
              "YK Pathan         161"
            ]
          },
          "metadata": {
            "tags": []
          },
          "execution_count": 92
        }
      ]
    },
    {
      "cell_type": "code",
      "metadata": {
        "colab": {
          "base_uri": "https://localhost:8080/",
          "height": 370
        },
        "id": "PDbqPg9n6aiE",
        "outputId": "cb077dce-6348-4c39-ff11-bb2745fb7fde"
      },
      "source": [
        "Top10_6 = batsman6Top[:10]\n",
        "plt.figure(figsize = (20,10))\n",
        "Top10_6.plot.bar(color=\"purple\")\n",
        "plt.xlabel(\"batsman\", fontsize = 16)\n",
        "plt.ylabel(\"Number of sixes\", fontsize = 16)\n",
        "plt.title(\"Most Sixess\", fontsize = 25)\n",
        "plt.xticks(rotation = 45, fontsize = 10)\n",
        "plt.show()"
      ],
      "execution_count": null,
      "outputs": [
        {
          "output_type": "display_data",
          "data": {
            "text/plain": [
              "<Figure size 1440x720 with 0 Axes>"
            ]
          },
          "metadata": {
            "tags": []
          }
        },
        {
          "output_type": "display_data",
          "data": {
            "image/png": "[encoded data removed]",
            "text/plain": [
              "<Figure size 432x288 with 1 Axes>"
            ]
          },
          "metadata": {
            "tags": [],
            "needs_background": "light"
          }
        }
      ]
    },
    {
      "cell_type": "markdown",
      "metadata": {
        "id": "vMgU1cO96rOA"
      },
      "source": [
        "Thus Chris Gayle has the most number of sixes(326) followed by AbD devillers and MS dhoni."
      ]
    },
    {
      "cell_type": "code",
      "metadata": {
        "colab": {
          "base_uri": "https://localhost:8080/",
          "height": 388
        },
        "id": "ZcBRY45i64ZA",
        "outputId": "6cd08cf7-54a1-4b90-fa8e-cd4f1c66f118"
      },
      "source": [
        "#lets find the batsmen with most no of runs\n",
        "batsman_runs = boundary.groupby(\"batsman\")[\"batsman_runs\"].agg([(\"Runs\",\"sum\")])\n",
        "batsman_runs_Top = batsman_runs.sort_values(\"Runs\",ascending = False)\n",
        "batsman_runs_Top.head(10)"
      ],
      "execution_count": null,
      "outputs": [
        {
          "output_type": "execute_result",
          "data": {
            "text/html": [
              "<div>\n",
              "<style scoped>\n",
              "    .dataframe tbody tr th:only-of-type {\n",
              "        vertical-align: middle;\n",
              "    }\n",
              "\n",
              "    .dataframe tbody tr th {\n",
              "        vertical-align: top;\n",
              "    }\n",
              "\n",
              "    .dataframe thead th {\n",
              "        text-align: right;\n",
              "    }\n",
              "</style>\n",
              "<table border=\"1\" class=\"dataframe\">\n",
              "  <thead>\n",
              "    <tr style=\"text-align: right;\">\n",
              "      <th></th>\n",
              "      <th>Runs</th>\n",
              "    </tr>\n",
              "    <tr>\n",
              "      <th>batsman</th>\n",
              "      <th></th>\n",
              "    </tr>\n",
              "  </thead>\n",
              "  <tbody>\n",
              "    <tr>\n",
              "      <th>SK Raina</th>\n",
              "      <td>5415</td>\n",
              "    </tr>\n",
              "    <tr>\n",
              "      <th>V Kohli</th>\n",
              "      <td>5407</td>\n",
              "    </tr>\n",
              "    <tr>\n",
              "      <th>RG Sharma</th>\n",
              "      <td>4914</td>\n",
              "    </tr>\n",
              "    <tr>\n",
              "      <th>DA Warner</th>\n",
              "      <td>4722</td>\n",
              "    </tr>\n",
              "    <tr>\n",
              "      <th>S Dhawan</th>\n",
              "      <td>4632</td>\n",
              "    </tr>\n",
              "    <tr>\n",
              "      <th>CH Gayle</th>\n",
              "      <td>4549</td>\n",
              "    </tr>\n",
              "    <tr>\n",
              "      <th>MS Dhoni</th>\n",
              "      <td>4477</td>\n",
              "    </tr>\n",
              "    <tr>\n",
              "      <th>RV Uthappa</th>\n",
              "      <td>4446</td>\n",
              "    </tr>\n",
              "    <tr>\n",
              "      <th>AB de Villiers</th>\n",
              "      <td>4361</td>\n",
              "    </tr>\n",
              "    <tr>\n",
              "      <th>G Gambhir</th>\n",
              "      <td>4223</td>\n",
              "    </tr>\n",
              "  </tbody>\n",
              "</table>\n",
              "</div>"
            ],
            "text/plain": [
              "                Runs\n",
              "batsman             \n",
              "SK Raina        5415\n",
              "V Kohli         5407\n",
              "RG Sharma       4914\n",
              "DA Warner       4722\n",
              "S Dhawan        4632\n",
              "CH Gayle        4549\n",
              "MS Dhoni        4477\n",
              "RV Uthappa      4446\n",
              "AB de Villiers  4361\n",
              "G Gambhir       4223"
            ]
          },
          "metadata": {
            "tags": []
          },
          "execution_count": 96
        }
      ]
    },
    {
      "cell_type": "code",
      "metadata": {
        "colab": {
          "base_uri": "https://localhost:8080/",
          "height": 370
        },
        "id": "wX3cf_7s7UyW",
        "outputId": "d7d7991b-705b-4dde-e03b-7a8b828ba7f0"
      },
      "source": [
        "Top_scorer = batsman_runs_Top[:10]\n",
        "plt.figure(figsize = (20,10))\n",
        "Top_scorer.plot.bar(color=\"purple\")\n",
        "plt.xlabel(\"batsman\", fontsize = 16)\n",
        "plt.ylabel(\"Number of runs\", fontsize = 16)\n",
        "plt.title(\"Top Batsmen\", fontsize = 25)\n",
        "plt.xticks(rotation = 45, fontsize = 10)\n",
        "plt.show()"
      ],
      "execution_count": null,
      "outputs": [
        {
          "output_type": "display_data",
          "data": {
            "text/plain": [
              "<Figure size 1440x720 with 0 Axes>"
            ]
          },
          "metadata": {
            "tags": []
          }
        },
        {
          "output_type": "display_data",
          "data": {
            "image/png": "[encoded data removed]",
            "text/plain": [
              "<Figure size 432x288 with 1 Axes>"
            ]
          },
          "metadata": {
            "tags": [],
            "needs_background": "light"
          }
        }
      ]
    },
    {
      "cell_type": "markdown",
      "metadata": {
        "id": "azGa-ll-7c8G"
      },
      "source": [
        "Thus we can see that Suresh Raina has most number of runs (5415) followed by Virat Kohli and Rohit sharma.\n",
        "\n",
        "**Thus in Conlcusion the potential players to endorse in would be Chris Gayle,Suresh Raina, Ab devillers , Virat Kohli, Rohit sharma and David Warner**"
      ]
    },
    {
      "cell_type": "markdown",
      "metadata": {
        "id": "phJ2_SE37-kS"
      },
      "source": [
        "#Top Bowler Analysis"
      ]
    },
    {
      "cell_type": "markdown",
      "metadata": {
        "id": "TrthkZpg8UPS"
      },
      "source": [
        "First all lets see what types of wickets have been taken beacuse not all wickets are counted in the bowlers Record ."
      ]
    },
    {
      "cell_type": "code",
      "metadata": {
        "colab": {
          "base_uri": "https://localhost:8080/"
        },
        "id": "jFm9lVRo8eex",
        "outputId": "15c33801-8c75-4508-d820-08dc0e4d8cb0"
      },
      "source": [
        "print(deliveries[\"dismissal_kind\"].unique())"
      ],
      "execution_count": null,
      "outputs": [
        {
          "output_type": "stream",
          "text": [
            "[nan 'caught' 'bowled' 'run out' 'lbw' 'caught and bowled' 'stumped'\n",
            " 'retired hurt' 'hit wicket' 'obstructing the field']\n"
          ],
          "name": "stdout"
        }
      ]
    },
    {
      "cell_type": "markdown",
      "metadata": {
        "id": "QksOEDun8k1S"
      },
      "source": [
        "Thus here obstructing the field, retired hurt and runout isnt counted in the bowlers wicket record. Therefore we will drop these from our analysis.\n",
        "Also we have some null values in that columns which we have to remove as it wont be necessary in our analysis."
      ]
    },
    {
      "cell_type": "code",
      "metadata": {
        "colab": {
          "base_uri": "https://localhost:8080/"
        },
        "id": "kcVTcqXV8jjR",
        "outputId": "3430ef99-f4e7-47b6-b0be-ed15918713d5"
      },
      "source": [
        "deliveries.isnull().sum()"
      ],
      "execution_count": null,
      "outputs": [
        {
          "output_type": "execute_result",
          "data": {
            "text/plain": [
              "match_id                 0\n",
              "inning                   0\n",
              "batting_team             0\n",
              "bowling_team             0\n",
              "over                     0\n",
              "ball                     0\n",
              "batsman                  0\n",
              "non_striker              0\n",
              "bowler                   0\n",
              "is_super_over            0\n",
              "wide_runs                0\n",
              "bye_runs                 0\n",
              "legbye_runs              0\n",
              "noball_runs              0\n",
              "penalty_runs             0\n",
              "batsman_runs             0\n",
              "extra_runs               0\n",
              "total_runs               0\n",
              "player_dismissed    170244\n",
              "dismissal_kind      170244\n",
              "fielder             172630\n",
              "dtype: int64"
            ]
          },
          "metadata": {
            "tags": []
          },
          "execution_count": 99
        }
      ]
    },
    {
      "cell_type": "markdown",
      "metadata": {
        "id": "8UGC8QP79QgA"
      },
      "source": [
        "Thus we have a large amount of missing data in the player_dismissed column. which can be because the players remained Not out, thus we can remove those data from our further analysis. "
      ]
    },
    {
      "cell_type": "code",
      "metadata": {
        "id": "RXWp1iMv9g2h"
      },
      "source": [
        "#removing the null values data and the unrequired data from the analysis\n",
        "wickets = deliveries.dropna(subset=['dismissal_kind'])\n",
        "wickets = wickets[~wickets['dismissal_kind'].isin(['run out','retired hurt','obstructing the field'])]\n"
      ],
      "execution_count": null,
      "outputs": []
    },
    {
      "cell_type": "markdown",
      "metadata": {
        "id": "mRSFihf191Am"
      },
      "source": [
        "Now lets calculate the number of wickets taken by each bowler and see who has the highest number."
      ]
    },
    {
      "cell_type": "code",
      "metadata": {
        "colab": {
          "base_uri": "https://localhost:8080/",
          "height": 417
        },
        "id": "tMG-vbOM8B8H",
        "outputId": "1a3c45e1-3d81-4740-f9ad-ceed534bdee7"
      },
      "source": [
        "bowlers = wickets.groupby(\"bowler\")['dismissal_kind'].agg(['count']).reset_index()\n",
        "bowlers=bowlers.rename(columns={'count':'wickets'})\n",
        "bowlers"
      ],
      "execution_count": null,
      "outputs": [
        {
          "output_type": "execute_result",
          "data": {
            "text/html": [
              "<div>\n",
              "<style scoped>\n",
              "    .dataframe tbody tr th:only-of-type {\n",
              "        vertical-align: middle;\n",
              "    }\n",
              "\n",
              "    .dataframe tbody tr th {\n",
              "        vertical-align: top;\n",
              "    }\n",
              "\n",
              "    .dataframe thead th {\n",
              "        text-align: right;\n",
              "    }\n",
              "</style>\n",
              "<table border=\"1\" class=\"dataframe\">\n",
              "  <thead>\n",
              "    <tr style=\"text-align: right;\">\n",
              "      <th></th>\n",
              "      <th>bowler</th>\n",
              "      <th>wickets</th>\n",
              "    </tr>\n",
              "  </thead>\n",
              "  <tbody>\n",
              "    <tr>\n",
              "      <th>0</th>\n",
              "      <td>A Ashish Reddy</td>\n",
              "      <td>18</td>\n",
              "    </tr>\n",
              "    <tr>\n",
              "      <th>1</th>\n",
              "      <td>A Chandila</td>\n",
              "      <td>11</td>\n",
              "    </tr>\n",
              "    <tr>\n",
              "      <th>2</th>\n",
              "      <td>A Choudhary</td>\n",
              "      <td>5</td>\n",
              "    </tr>\n",
              "    <tr>\n",
              "      <th>3</th>\n",
              "      <td>A Flintoff</td>\n",
              "      <td>2</td>\n",
              "    </tr>\n",
              "    <tr>\n",
              "      <th>4</th>\n",
              "      <td>A Joseph</td>\n",
              "      <td>6</td>\n",
              "    </tr>\n",
              "    <tr>\n",
              "      <th>...</th>\n",
              "      <td>...</td>\n",
              "      <td>...</td>\n",
              "    </tr>\n",
              "    <tr>\n",
              "      <th>343</th>\n",
              "      <td>YA Abdulla</td>\n",
              "      <td>15</td>\n",
              "    </tr>\n",
              "    <tr>\n",
              "      <th>344</th>\n",
              "      <td>YK Pathan</td>\n",
              "      <td>42</td>\n",
              "    </tr>\n",
              "    <tr>\n",
              "      <th>345</th>\n",
              "      <td>YS Chahal</td>\n",
              "      <td>100</td>\n",
              "    </tr>\n",
              "    <tr>\n",
              "      <th>346</th>\n",
              "      <td>Yuvraj Singh</td>\n",
              "      <td>36</td>\n",
              "    </tr>\n",
              "    <tr>\n",
              "      <th>347</th>\n",
              "      <td>Z Khan</td>\n",
              "      <td>102</td>\n",
              "    </tr>\n",
              "  </tbody>\n",
              "</table>\n",
              "<p>348 rows × 2 columns</p>\n",
              "</div>"
            ],
            "text/plain": [
              "             bowler  wickets\n",
              "0    A Ashish Reddy       18\n",
              "1        A Chandila       11\n",
              "2       A Choudhary        5\n",
              "3        A Flintoff        2\n",
              "4          A Joseph        6\n",
              "..              ...      ...\n",
              "343      YA Abdulla       15\n",
              "344       YK Pathan       42\n",
              "345       YS Chahal      100\n",
              "346    Yuvraj Singh       36\n",
              "347          Z Khan      102\n",
              "\n",
              "[348 rows x 2 columns]"
            ]
          },
          "metadata": {
            "tags": []
          },
          "execution_count": 101
        }
      ]
    },
    {
      "cell_type": "code",
      "metadata": {
        "colab": {
          "base_uri": "https://localhost:8080/",
          "height": 357
        },
        "id": "p2Ah1w16-BHY",
        "outputId": "69bacaf7-af7c-41cb-d292-1b0f2b85fd64"
      },
      "source": [
        "top_bowlers = bowlers.sort_values(\"wickets\",ascending = False)\n",
        "Top10_bowlers = top_bowlers[:10]\n",
        "Top10_bowlers"
      ],
      "execution_count": null,
      "outputs": [
        {
          "output_type": "execute_result",
          "data": {
            "text/html": [
              "<div>\n",
              "<style scoped>\n",
              "    .dataframe tbody tr th:only-of-type {\n",
              "        vertical-align: middle;\n",
              "    }\n",
              "\n",
              "    .dataframe tbody tr th {\n",
              "        vertical-align: top;\n",
              "    }\n",
              "\n",
              "    .dataframe thead th {\n",
              "        text-align: right;\n",
              "    }\n",
              "</style>\n",
              "<table border=\"1\" class=\"dataframe\">\n",
              "  <thead>\n",
              "    <tr style=\"text-align: right;\">\n",
              "      <th></th>\n",
              "      <th>bowler</th>\n",
              "      <th>wickets</th>\n",
              "    </tr>\n",
              "  </thead>\n",
              "  <tbody>\n",
              "    <tr>\n",
              "      <th>290</th>\n",
              "      <td>SL Malinga</td>\n",
              "      <td>170</td>\n",
              "    </tr>\n",
              "    <tr>\n",
              "      <th>6</th>\n",
              "      <td>A Mishra</td>\n",
              "      <td>156</td>\n",
              "    </tr>\n",
              "    <tr>\n",
              "      <th>110</th>\n",
              "      <td>Harbhajan Singh</td>\n",
              "      <td>150</td>\n",
              "    </tr>\n",
              "    <tr>\n",
              "      <th>227</th>\n",
              "      <td>PP Chawla</td>\n",
              "      <td>149</td>\n",
              "    </tr>\n",
              "    <tr>\n",
              "      <th>82</th>\n",
              "      <td>DJ Bravo</td>\n",
              "      <td>147</td>\n",
              "    </tr>\n",
              "    <tr>\n",
              "      <th>46</th>\n",
              "      <td>B Kumar</td>\n",
              "      <td>133</td>\n",
              "    </tr>\n",
              "    <tr>\n",
              "      <th>232</th>\n",
              "      <td>R Ashwin</td>\n",
              "      <td>125</td>\n",
              "    </tr>\n",
              "    <tr>\n",
              "      <th>296</th>\n",
              "      <td>SP Narine</td>\n",
              "      <td>122</td>\n",
              "    </tr>\n",
              "    <tr>\n",
              "      <th>326</th>\n",
              "      <td>UT Yadav</td>\n",
              "      <td>119</td>\n",
              "    </tr>\n",
              "    <tr>\n",
              "      <th>244</th>\n",
              "      <td>RA Jadeja</td>\n",
              "      <td>108</td>\n",
              "    </tr>\n",
              "  </tbody>\n",
              "</table>\n",
              "</div>"
            ],
            "text/plain": [
              "              bowler  wickets\n",
              "290       SL Malinga      170\n",
              "6           A Mishra      156\n",
              "110  Harbhajan Singh      150\n",
              "227        PP Chawla      149\n",
              "82          DJ Bravo      147\n",
              "46           B Kumar      133\n",
              "232         R Ashwin      125\n",
              "296        SP Narine      122\n",
              "326         UT Yadav      119\n",
              "244        RA Jadeja      108"
            ]
          },
          "metadata": {
            "tags": []
          },
          "execution_count": 102
        }
      ]
    },
    {
      "cell_type": "code",
      "metadata": {
        "colab": {
          "base_uri": "https://localhost:8080/",
          "height": 740
        },
        "id": "EQ44xSg5-Qe5",
        "outputId": "c8ddfdaa-7e9b-48c9-b680-59a50cb826f5"
      },
      "source": [
        "plt.figure(figsize = (15,10))\n",
        "sns.barplot(data = Top10_bowlers,x = \"bowler\",y = \"wickets\",color=\"purple\")\n",
        "plt.xlabel(\"Bowlers\", fontsize = 25)\n",
        "plt.ylabel(\"Number of wickets\", fontsize = 25)\n",
        "plt.title(\"Top Bowlers\", fontsize = 25)\n",
        "plt.xticks(rotation = 45, fontsize = 16)\n",
        "plt.show()"
      ],
      "execution_count": null,
      "outputs": [
        {
          "output_type": "display_data",
          "data": {
            "image/png": "[encoded data removed]",
            "text/plain": [
              "<Figure size 1080x720 with 1 Axes>"
            ]
          },
          "metadata": {
            "tags": [],
            "needs_background": "light"
          }
        }
      ]
    },
    {
      "cell_type": "markdown",
      "metadata": {
        "id": "DWRaBGx_-lQ0"
      },
      "source": [
        "Thus we can see that Lasith Malinga has the highest number of wickets(170) followed by Amit mishra and Harabajan Singh.\n",
        "**Thus These 3 players are good for endorsement**\n",
        "\n"
      ]
    },
    {
      "cell_type": "markdown",
      "metadata": {
        "id": "y2EDnzKuvtjV"
      },
      "source": [
        "#Conclusion"
      ]
    },
    {
      "cell_type": "markdown",
      "metadata": {
        "id": "dEYoToDjvxtY"
      },
      "source": [
        "1)**Thus Mumbai Indians is the best franchise to endorse in, followed by Chennai super kings and Kolkata Knight riders**\n",
        "\n",
        "2)**Toss plays an significant Role in Result of the match**\n",
        "\n",
        "3)**Thus we can suggest Chris gayle , rohit sharma , Abdevillers and david warner to companies to endorse in, as they have most number of player of match awards.**\n",
        "\n",
        "4)**Thus Mumbai,Royal Challengers Bangalore,Kings XI Punjab were the most interesting teams to watch out for and endorse in, as they had the most number of boundaries**\n",
        "\n",
        "5) **The potential players to endorse in would be Chris Gayle,Suresh Raina, Ab devillers , Virat Kohli, Rohit sharma and David Warner as they have most number of Runs** \n",
        " a)Thus Chris Gayle has the most number of sixes(326) followed by AbD devillers and MS dhoni.\n",
        " b)Thus Shikhar Dhawan has the most no of Fours (526) followed by Suresh raina , G Gambhir and Virat Kohli \n",
        "\n",
        "6)**Thus we can see that Lasith Malinga has the highest number of wickets(170) followed by Amit mishra and Harabajan Singh, these players are better to endorse in.**\n"
      ]
    }
  ]
}